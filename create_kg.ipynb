{
 "cells": [
  {
   "cell_type": "code",
   "execution_count": 1,
   "metadata": {},
   "outputs": [
    {
     "name": "stderr",
     "output_type": "stream",
     "text": [
      "INFO -- This is BioCypher v0.5.19.\n",
      "INFO -- Logging into `biocypher-log/biocypher-20240123-124355.log`.\n"
     ]
    },
    {
     "name": "stdout",
     "output_type": "stream",
     "text": [
      "The autoreload extension is already loaded. To reload it, use:\n",
      "  %reload_ext autoreload\n"
     ]
    }
   ],
   "source": [
    "from biocypher import BioCypher\n",
    "from genespectrakg.adapters.genespectra_adapter_individual import (\n",
    "    GeneSpectraAdapter,\n",
    "    GeneSpectraAdapterNodeType,\n",
    "    GeneSpectraAdapterEdgeType,\n",
    "    GeneSpectraAdapterCellTypeField,\n",
    "    GeneSpectraAdapterGeneField,\n",
    "    GeneSpectraAdapterOrthologousGroupField,\n",
    "    GeneSpectraAdapterSpeciesField,\n",
    "    GeneSpectraAdapterEdgeField,\n",
    ")\n",
    "\n",
    "# Instantiate the BioCypher interface\n",
    "# You can use `config/biocypher_config.yaml` to configure the framework or\n",
    "# supply settings via parameters below\n",
    "bc = BioCypher(\n",
    "    biocypher_config_path=\"config/biocypher_config.yaml\",\n",
    ")\n",
    "\n",
    "# Choose node types to include in the knowledge graph.\n",
    "# These are defined in the adapter (`adapter.py`).\n",
    "node_types = [\n",
    "    GeneSpectraAdapterNodeType.CELL_TYPE,\n",
    "    GeneSpectraAdapterNodeType.GENE,\n",
    "    GeneSpectraAdapterNodeType.SPECIES,\n",
    "    GeneSpectraAdapterNodeType.ORTHOLOGOUS_GROUP,\n",
    "]\n",
    "\n",
    "# Choose protein adapter fields to include in the knowledge graph.\n",
    "# These are defined in the adapter (`adapter.py`).\n",
    "node_fields = [\n",
    "    # Proteins\n",
    "    GeneSpectraAdapterCellTypeField.CELL_TYPE_ID,\n",
    "    GeneSpectraAdapterCellTypeField.CELL_TYPE_NAME,\n",
    "    GeneSpectraAdapterCellTypeField.TISSUE_ID,\n",
    "    GeneSpectraAdapterCellTypeField.TISSUE_NAME,\n",
    "    GeneSpectraAdapterGeneField.GENE_ID,\n",
    "    GeneSpectraAdapterGeneField.GENE_NAME,\n",
    "    GeneSpectraAdapterSpeciesField.SPECIES_ID,\n",
    "    GeneSpectraAdapterSpeciesField.SPECIES_NAME,\n",
    "    GeneSpectraAdapterOrthologousGroupField.EGGNOG_DATASET_NAME,\n",
    "    GeneSpectraAdapterOrthologousGroupField.ORTHOLOGOUS_GROUP_ID,\n",
    "    GeneSpectraAdapterOrthologousGroupField.EGGNOG_DATASET_ID,\n",
    "]\n",
    "\n",
    "edge_types = [\n",
    "    GeneSpectraAdapterEdgeType.CELL_TYPE_FROM_SPECIES,\n",
    "    GeneSpectraAdapterEdgeType.GENE_ENHANCED_IN_CELL_TYPE,\n",
    "    GeneSpectraAdapterEdgeType.GENE_ENRICHED_IN_CELL_TYPE,\n",
    "    GeneSpectraAdapterEdgeType.GENE_FROM_SPECIES,\n",
    "    GeneSpectraAdapterEdgeType.GENE_IN_ORTHOLOGOUS_GROUP,\n",
    "]\n",
    "\n",
    "edge_fields = [\n",
    "    GeneSpectraAdapterEdgeField.SPECIFICITY_CATEGORY,\n",
    "    GeneSpectraAdapterEdgeField.DISTRIBUTION_CATEGORY,\n",
    "    GeneSpectraAdapterEdgeField.SPECIFICITY_CATEGORY_TYPE,\n",
    "    GeneSpectraAdapterEdgeField.FRACTION_EXPRESSED,\n",
    "    GeneSpectraAdapterEdgeField.MAX_EXPRESSION,\n",
    "    GeneSpectraAdapterEdgeField.MEAN_EXPRESSION,\n",
    "    GeneSpectraAdapterEdgeField.NUMBER_EXPRESSED,\n",
    "    GeneSpectraAdapterEdgeField.SPECIFICITY_SCORE,\n",
    "    GeneSpectraAdapterEdgeField.GROUPS_EXPRESSED,\n",
    "]\n",
    "\n",
    "%load_ext autoreload\n",
    "%autoreload 2\n"
   ]
  },
  {
   "cell_type": "code",
   "execution_count": 2,
   "metadata": {},
   "outputs": [
    {
     "name": "stderr",
     "output_type": "stream",
     "text": [
      "INFO -- Loading data.\n"
     ]
    }
   ],
   "source": [
    "\n",
    "# Create a protein adapter instance\n",
    "adapter = GeneSpectraAdapter(\n",
    "    node_types=node_types,\n",
    "    node_fields=node_fields,\n",
    "    edge_types=edge_types,\n",
    "    edge_fields=edge_fields,\n",
    ")\n",
    "\n",
    "adapter.load_genespectra_data(eggnog_file='data/MTG_eggnog_ensembl_mapped_5_taxa.csv',\n",
    "                              cell_ontology_file='data/MTG_cell_type_to_ontology.csv', \n",
    "                              genespectra_file='data/1TPM_lim/all_species_classes_subclass_1TPM_ensembl_name_processed_all.csv')\n",
    "\n"
   ]
  },
  {
   "cell_type": "code",
   "execution_count": 3,
   "metadata": {},
   "outputs": [
    {
     "data": {
      "text/plain": [
       "(84743, 2)"
      ]
     },
     "execution_count": 3,
     "metadata": {},
     "output_type": "execute_result"
    }
   ],
   "source": [
    "adapter.gene.shape"
   ]
  },
  {
   "cell_type": "code",
   "execution_count": 4,
   "metadata": {},
   "outputs": [
    {
     "name": "stderr",
     "output_type": "stream",
     "text": [
      "INFO -- Loading ontologies...\n",
      "INFO -- Instantiating OntologyAdapter class for https://github.com/biolink/biolink-model/raw/v3.2.1/biolink-model.owl.ttl.\n",
      "INFO -- Creating output directory `/Users/ysong/SOFTWARE/GeneSpectraKG/biocypher-out/20240123124404`.\n",
      "INFO -- Generating nodes.\n"
     ]
    },
    {
     "name": "stdout",
     "output_type": "stream",
     "text": [
      "get gene nodes from genespectra and EggNOG\n"
     ]
    },
    {
     "name": "stderr",
     "output_type": "stream",
     "text": [
      "WARNING -- Duplicate node type gene found. \n"
     ]
    },
    {
     "name": "stdout",
     "output_type": "stream",
     "text": [
      "get OG nodes from EggNOG\n",
      "get species nodes from EggNOG\n",
      "get cell type nodes from cell ontology info\n"
     ]
    },
    {
     "name": "stderr",
     "output_type": "stream",
     "text": [
      "INFO -- Writing 84741 entries to Gene-part000.csv\n",
      "INFO -- Writing 76839 entries to OrthologousGroup-part000.csv\n",
      "INFO -- Writing 5 entries to Species-part000.csv\n",
      "INFO -- Writing 22 entries to CellType-part000.csv\n"
     ]
    },
    {
     "data": {
      "text/plain": [
       "True"
      ]
     },
     "execution_count": 4,
     "metadata": {},
     "output_type": "execute_result"
    }
   ],
   "source": [
    "\n",
    "# Create a knowledge graph from the adapter\n",
    "bc.write_nodes(adapter.get_nodes())"
   ]
  },
  {
   "cell_type": "code",
   "execution_count": 5,
   "metadata": {},
   "outputs": [
    {
     "name": "stderr",
     "output_type": "stream",
     "text": [
      "INFO -- Generating edges.\n"
     ]
    },
    {
     "name": "stdout",
     "output_type": "stream",
     "text": [
      "Get cell type from species edges\n",
      "Get gene from species edges\n",
      "Get gene from OG edges\n",
      "Get gene enriched in cell type edges\n",
      "Get gene enhanced in cell type edges\n"
     ]
    },
    {
     "name": "stderr",
     "output_type": "stream",
     "text": [
      "WARNING -- Duplicate edge type gene from species found. \n",
      "WARNING -- Duplicate edge type gene enriched in cell type found. \n",
      "WARNING -- Duplicate edge type gene enhanced in cell type found. \n",
      "INFO -- Writing 110 entries to CellTypeFromSpecies-part000.csv\n",
      "INFO -- Writing 84741 entries to GeneFromSpecies-part000.csv\n",
      "INFO -- Writing 414386 entries to GeneInOrthologousGroup-part000.csv\n",
      "INFO -- Writing 23672 entries to GeneEnrichedInCellType-part000.csv\n",
      "INFO -- Writing 15145 entries to GeneEnhancedInCellType-part000.csv\n"
     ]
    },
    {
     "data": {
      "text/plain": [
       "True"
      ]
     },
     "execution_count": 5,
     "metadata": {},
     "output_type": "execute_result"
    }
   ],
   "source": [
    "\n",
    "bc.write_edges(adapter.get_edges())\n"
   ]
  },
  {
   "cell_type": "code",
   "execution_count": 6,
   "metadata": {},
   "outputs": [
    {
     "name": "stderr",
     "output_type": "stream",
     "text": [
      "INFO -- Writing neo4j import call to `/Users/ysong/SOFTWARE/GeneSpectraKG/biocypher-out/20240123124404/neo4j-admin-import-call.sh`.\n",
      "INFO -- Duplicate node types encountered (IDs in log): \n",
      "    gene\n",
      "\n",
      "INFO -- Duplicate edge types encountered (IDs in log): \n",
      "    gene from species\n",
      "    gene enriched in cell type\n",
      "    gene enhanced in cell type\n",
      "\n",
      "INFO -- No missing labels in input.\n"
     ]
    },
    {
     "name": "stdout",
     "output_type": "stream",
     "text": [
      "Showing ontology structure based on https://github.com/biolink/biolink-model/raw/v3.2.1/biolink-model.owl.ttl\n",
      "entity\n",
      "├── association\n",
      "│   ├── cell type from species\n",
      "│   ├── gene enhanced in cell type\n",
      "│   ├── gene enriched in cell type\n",
      "│   ├── gene from species\n",
      "│   └── gene to gene family association\n",
      "│       └── gene in orthologous group\n",
      "└── named thing\n",
      "    └── biological entity\n",
      "        ├── gene\n",
      "        ├── gene family\n",
      "        │   └── orthologous group\n",
      "        └── organismal entity\n",
      "            ├── anatomical entity\n",
      "            │   └── cell\n",
      "            │       └── cell type\n",
      "            └── cellular organism\n",
      "                └── species\n",
      "\n"
     ]
    }
   ],
   "source": [
    "\n",
    "# Write admin import statement\n",
    "bc.write_import_call()\n",
    "\n",
    "# Print summary\n",
    "bc.summary()"
   ]
  },
  {
   "cell_type": "code",
   "execution_count": null,
   "metadata": {},
   "outputs": [],
   "source": []
  }
 ],
 "metadata": {
  "kernelspec": {
   "display_name": "Python 3",
   "language": "python",
   "name": "python3"
  },
  "language_info": {
   "codemirror_mode": {
    "name": "ipython",
    "version": 3
   },
   "file_extension": ".py",
   "mimetype": "text/x-python",
   "name": "python",
   "nbconvert_exporter": "python",
   "pygments_lexer": "ipython3",
   "version": "3.10.12"
  }
 },
 "nbformat": 4,
 "nbformat_minor": 2
}
