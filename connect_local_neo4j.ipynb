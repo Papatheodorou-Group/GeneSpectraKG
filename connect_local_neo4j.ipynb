{
 "cells": [
  {
   "cell_type": "code",
   "execution_count": 70,
   "metadata": {},
   "outputs": [],
   "source": [
    "from neo4j import GraphDatabase\n",
    "from warnings import filterwarnings\n",
    "filterwarnings(\"ignore\")\n",
    "import pandas as pd\n",
    "from statistics import harmonic_mean\n"
   ]
  },
  {
   "cell_type": "code",
   "execution_count": 24,
   "metadata": {},
   "outputs": [],
   "source": [
    "\n",
    "# URI examples: \"neo4j://localhost\", \"neo4j+s://xxx.databases.neo4j.io\"\n",
    "URI = \"neo4j://localhost:7687\"\n",
    "AUTH = (\"test\", \"666666\")\n",
    "\n",
    "with GraphDatabase.driver(URI, auth=AUTH) as driver: \n",
    "\n",
    "    driver.verify_connectivity() "
   ]
  },
  {
   "cell_type": "code",
   "execution_count": 31,
   "metadata": {},
   "outputs": [
    {
     "name": "stdout",
     "output_type": "stream",
     "text": [
      "  s1.species_scientific_name  total1\n",
      "0                   marmoset       4\n",
      "1                    macaque      24\n",
      "2                      human      32\n",
      "3                    gorilla      16\n",
      "4                      chimp      12\n"
     ]
    }
   ],
   "source": [
    "query=\"\"\"MATCH (s1:Species)<-[:CellTypeFromSpecies]-(ct:CellType {cell_type_name: 'L2/3 intratelencephalic projecting glutamatergic neuron'})<-[:GeneEnrichedInCellType]-(g3:Gene)-[:GeneFromSpecies]->(s1)\n",
    "WITH s1,  COUNT(DISTINCT g3) AS total1, ct\n",
    "RETURN s1.species_scientific_name, total1\"\"\"\n",
    "\n",
    "with driver.session() as session:\n",
    "    result = session.run(query)\n",
    "    df = result.to_df()\n",
    "\n",
    "print(df)"
   ]
  },
  {
   "cell_type": "markdown",
   "metadata": {},
   "source": []
  },
  {
   "cell_type": "code",
   "execution_count": 32,
   "metadata": {},
   "outputs": [
    {
     "name": "stdout",
     "output_type": "stream",
     "text": [
      "   s1.species_scientific_name s2.species_scientific_name  genes1  genes2\n",
      "0                    marmoset                      human       1       1\n",
      "1                    marmoset                    macaque       1       1\n",
      "2                     macaque                    gorilla       3       3\n",
      "3                     macaque                      chimp       2       2\n",
      "4                     macaque                      human       3       3\n",
      "5                     macaque                   marmoset       1       1\n",
      "6                       human                      chimp       5       5\n",
      "7                       human                    gorilla       3       3\n",
      "8                       human                    macaque       3       3\n",
      "9                       human                   marmoset       1       1\n",
      "10                    gorilla                      chimp       2       2\n",
      "11                    gorilla                      human       3       3\n",
      "12                    gorilla                    macaque       3       3\n",
      "13                      chimp                      human       5       5\n",
      "14                      chimp                    gorilla       2       2\n",
      "15                      chimp                    macaque       2       2\n"
     ]
    }
   ],
   "source": [
    "query2=\"\"\"MATCH (s1:Species)<-[:CellTypeFromSpecies]-(ct:CellType {cell_type_name: 'L2/3 intratelencephalic projecting glutamatergic neuron'})<-[:GeneEnrichedInCellType]-(g1:Gene)-[:GeneInOrthologousGroup]->(gf:OrthologousGroup),\n",
    "    (g1:Gene)-[:GeneFromSpecies]->(s1),\n",
    "    (s2:Species)<-[:CellTypeFromSpecies]-(ct)<-[:GeneEnrichedInCellType]-(g2:Gene)-[:GeneInOrthologousGroup]->(gf:OrthologousGroup),\n",
    "    (g2:Gene)-[:GeneFromSpecies]->(s2)\n",
    "WHERE s1 <> s2\n",
    "WITH s1, s2, COUNT(DISTINCT g1) AS genes1, COUNT(DISTINCT g2) AS genes2, ct\n",
    "RETURN s1.species_scientific_name, s2.species_scientific_name, genes1, genes2\"\"\"\n",
    "\n",
    "with driver.session() as session:\n",
    "    result2 = session.run(query2)\n",
    "    df2 = result2.to_df()\n",
    "\n",
    "print(df2)"
   ]
  },
  {
   "cell_type": "code",
   "execution_count": 46,
   "metadata": {},
   "outputs": [],
   "source": [
    "df_new = df.merge(df2)\n",
    "df_new.drop('genes2', axis=1, inplace=True)"
   ]
  },
  {
   "cell_type": "code",
   "execution_count": 47,
   "metadata": {},
   "outputs": [],
   "source": [
    "df_new.columns = ['sp1', 'sp1_total_enriched', 'sp2', 'num_enriched_share_og']"
   ]
  },
  {
   "cell_type": "code",
   "execution_count": 48,
   "metadata": {},
   "outputs": [
    {
     "data": {
      "text/html": [
       "<div>\n",
       "<style scoped>\n",
       "    .dataframe tbody tr th:only-of-type {\n",
       "        vertical-align: middle;\n",
       "    }\n",
       "\n",
       "    .dataframe tbody tr th {\n",
       "        vertical-align: top;\n",
       "    }\n",
       "\n",
       "    .dataframe thead th {\n",
       "        text-align: right;\n",
       "    }\n",
       "</style>\n",
       "<table border=\"1\" class=\"dataframe\">\n",
       "  <thead>\n",
       "    <tr style=\"text-align: right;\">\n",
       "      <th></th>\n",
       "      <th>s1.species_scientific_name</th>\n",
       "      <th>s2.species_scientific_name</th>\n",
       "      <th>genes1</th>\n",
       "      <th>genes2</th>\n",
       "    </tr>\n",
       "  </thead>\n",
       "  <tbody>\n",
       "    <tr>\n",
       "      <th>0</th>\n",
       "      <td>marmoset</td>\n",
       "      <td>human</td>\n",
       "      <td>1</td>\n",
       "      <td>1</td>\n",
       "    </tr>\n",
       "    <tr>\n",
       "      <th>1</th>\n",
       "      <td>marmoset</td>\n",
       "      <td>macaque</td>\n",
       "      <td>1</td>\n",
       "      <td>1</td>\n",
       "    </tr>\n",
       "    <tr>\n",
       "      <th>2</th>\n",
       "      <td>macaque</td>\n",
       "      <td>gorilla</td>\n",
       "      <td>3</td>\n",
       "      <td>3</td>\n",
       "    </tr>\n",
       "    <tr>\n",
       "      <th>3</th>\n",
       "      <td>macaque</td>\n",
       "      <td>chimp</td>\n",
       "      <td>2</td>\n",
       "      <td>2</td>\n",
       "    </tr>\n",
       "    <tr>\n",
       "      <th>4</th>\n",
       "      <td>macaque</td>\n",
       "      <td>human</td>\n",
       "      <td>3</td>\n",
       "      <td>3</td>\n",
       "    </tr>\n",
       "    <tr>\n",
       "      <th>5</th>\n",
       "      <td>macaque</td>\n",
       "      <td>marmoset</td>\n",
       "      <td>1</td>\n",
       "      <td>1</td>\n",
       "    </tr>\n",
       "    <tr>\n",
       "      <th>6</th>\n",
       "      <td>human</td>\n",
       "      <td>chimp</td>\n",
       "      <td>5</td>\n",
       "      <td>5</td>\n",
       "    </tr>\n",
       "    <tr>\n",
       "      <th>7</th>\n",
       "      <td>human</td>\n",
       "      <td>gorilla</td>\n",
       "      <td>3</td>\n",
       "      <td>3</td>\n",
       "    </tr>\n",
       "    <tr>\n",
       "      <th>8</th>\n",
       "      <td>human</td>\n",
       "      <td>macaque</td>\n",
       "      <td>3</td>\n",
       "      <td>3</td>\n",
       "    </tr>\n",
       "    <tr>\n",
       "      <th>9</th>\n",
       "      <td>human</td>\n",
       "      <td>marmoset</td>\n",
       "      <td>1</td>\n",
       "      <td>1</td>\n",
       "    </tr>\n",
       "    <tr>\n",
       "      <th>10</th>\n",
       "      <td>gorilla</td>\n",
       "      <td>chimp</td>\n",
       "      <td>2</td>\n",
       "      <td>2</td>\n",
       "    </tr>\n",
       "    <tr>\n",
       "      <th>11</th>\n",
       "      <td>gorilla</td>\n",
       "      <td>human</td>\n",
       "      <td>3</td>\n",
       "      <td>3</td>\n",
       "    </tr>\n",
       "    <tr>\n",
       "      <th>12</th>\n",
       "      <td>gorilla</td>\n",
       "      <td>macaque</td>\n",
       "      <td>3</td>\n",
       "      <td>3</td>\n",
       "    </tr>\n",
       "    <tr>\n",
       "      <th>13</th>\n",
       "      <td>chimp</td>\n",
       "      <td>human</td>\n",
       "      <td>5</td>\n",
       "      <td>5</td>\n",
       "    </tr>\n",
       "    <tr>\n",
       "      <th>14</th>\n",
       "      <td>chimp</td>\n",
       "      <td>gorilla</td>\n",
       "      <td>2</td>\n",
       "      <td>2</td>\n",
       "    </tr>\n",
       "    <tr>\n",
       "      <th>15</th>\n",
       "      <td>chimp</td>\n",
       "      <td>macaque</td>\n",
       "      <td>2</td>\n",
       "      <td>2</td>\n",
       "    </tr>\n",
       "  </tbody>\n",
       "</table>\n",
       "</div>"
      ],
      "text/plain": [
       "   s1.species_scientific_name s2.species_scientific_name  genes1  genes2\n",
       "0                    marmoset                      human       1       1\n",
       "1                    marmoset                    macaque       1       1\n",
       "2                     macaque                    gorilla       3       3\n",
       "3                     macaque                      chimp       2       2\n",
       "4                     macaque                      human       3       3\n",
       "5                     macaque                   marmoset       1       1\n",
       "6                       human                      chimp       5       5\n",
       "7                       human                    gorilla       3       3\n",
       "8                       human                    macaque       3       3\n",
       "9                       human                   marmoset       1       1\n",
       "10                    gorilla                      chimp       2       2\n",
       "11                    gorilla                      human       3       3\n",
       "12                    gorilla                    macaque       3       3\n",
       "13                      chimp                      human       5       5\n",
       "14                      chimp                    gorilla       2       2\n",
       "15                      chimp                    macaque       2       2"
      ]
     },
     "execution_count": 48,
     "metadata": {},
     "output_type": "execute_result"
    }
   ],
   "source": [
    "df2"
   ]
  },
  {
   "cell_type": "code",
   "execution_count": 53,
   "metadata": {},
   "outputs": [],
   "source": [
    "df_all = df_new.merge(df, left_on='sp2', right_on='s1.species_scientific_name').drop('s1.species_scientific_name', axis=1)"
   ]
  },
  {
   "cell_type": "code",
   "execution_count": 56,
   "metadata": {},
   "outputs": [],
   "source": [
    "df_all = df_all.rename(columns = {'total1':'sp2_total_enriched'})"
   ]
  },
  {
   "cell_type": "code",
   "execution_count": 59,
   "metadata": {},
   "outputs": [],
   "source": [
    "df_all['sp1_pct'] = df_all['num_enriched_share_og'] / df_all['sp1_total_enriched']\n",
    "df_all['sp2_pct'] = df_all['num_enriched_share_og'] / df_all['sp2_total_enriched']"
   ]
  },
  {
   "cell_type": "code",
   "execution_count": 74,
   "metadata": {},
   "outputs": [],
   "source": [
    "df_all['hmean_pct'] = df_all.apply(lambda x: harmonic_mean([x['sp1_pct'], x['sp2_pct']]), axis=1)"
   ]
  },
  {
   "cell_type": "code",
   "execution_count": 84,
   "metadata": {},
   "outputs": [
    {
     "data": {
      "text/html": [
       "<div>\n",
       "<style scoped>\n",
       "    .dataframe tbody tr th:only-of-type {\n",
       "        vertical-align: middle;\n",
       "    }\n",
       "\n",
       "    .dataframe tbody tr th {\n",
       "        vertical-align: top;\n",
       "    }\n",
       "\n",
       "    .dataframe thead th {\n",
       "        text-align: right;\n",
       "    }\n",
       "</style>\n",
       "<table border=\"1\" class=\"dataframe\">\n",
       "  <thead>\n",
       "    <tr style=\"text-align: right;\">\n",
       "      <th></th>\n",
       "      <th>sp1</th>\n",
       "      <th>sp2</th>\n",
       "      <th>hmean_pct</th>\n",
       "    </tr>\n",
       "  </thead>\n",
       "  <tbody>\n",
       "    <tr>\n",
       "      <th>0</th>\n",
       "      <td>chimp</td>\n",
       "      <td>human</td>\n",
       "      <td>0.227273</td>\n",
       "    </tr>\n",
       "    <tr>\n",
       "      <th>1</th>\n",
       "      <td>gorilla</td>\n",
       "      <td>macaque</td>\n",
       "      <td>0.150000</td>\n",
       "    </tr>\n",
       "    <tr>\n",
       "      <th>2</th>\n",
       "      <td>chimp</td>\n",
       "      <td>gorilla</td>\n",
       "      <td>0.142857</td>\n",
       "    </tr>\n",
       "    <tr>\n",
       "      <th>3</th>\n",
       "      <td>gorilla</td>\n",
       "      <td>human</td>\n",
       "      <td>0.125000</td>\n",
       "    </tr>\n",
       "    <tr>\n",
       "      <th>4</th>\n",
       "      <td>chimp</td>\n",
       "      <td>macaque</td>\n",
       "      <td>0.111111</td>\n",
       "    </tr>\n",
       "    <tr>\n",
       "      <th>5</th>\n",
       "      <td>macaque</td>\n",
       "      <td>human</td>\n",
       "      <td>0.107143</td>\n",
       "    </tr>\n",
       "    <tr>\n",
       "      <th>6</th>\n",
       "      <td>marmoset</td>\n",
       "      <td>macaque</td>\n",
       "      <td>0.071429</td>\n",
       "    </tr>\n",
       "    <tr>\n",
       "      <th>7</th>\n",
       "      <td>marmoset</td>\n",
       "      <td>human</td>\n",
       "      <td>0.055556</td>\n",
       "    </tr>\n",
       "  </tbody>\n",
       "</table>\n",
       "</div>"
      ],
      "text/plain": [
       "        sp1      sp2  hmean_pct\n",
       "0     chimp    human   0.227273\n",
       "1   gorilla  macaque   0.150000\n",
       "2     chimp  gorilla   0.142857\n",
       "3   gorilla    human   0.125000\n",
       "4     chimp  macaque   0.111111\n",
       "5   macaque    human   0.107143\n",
       "6  marmoset  macaque   0.071429\n",
       "7  marmoset    human   0.055556"
      ]
     },
     "execution_count": 84,
     "metadata": {},
     "output_type": "execute_result"
    }
   ],
   "source": [
    "df_all.sort_values('hmean_pct', ascending=False)[['sp1', 'sp2', 'hmean_pct']].drop_duplicates('hmean_pct').reset_index(drop=True)"
   ]
  },
  {
   "cell_type": "code",
   "execution_count": null,
   "metadata": {},
   "outputs": [],
   "source": []
  },
  {
   "cell_type": "code",
   "execution_count": null,
   "metadata": {},
   "outputs": [],
   "source": []
  }
 ],
 "metadata": {
  "kernelspec": {
   "display_name": "Python 3",
   "language": "python",
   "name": "python3"
  },
  "language_info": {
   "codemirror_mode": {
    "name": "ipython",
    "version": 3
   },
   "file_extension": ".py",
   "mimetype": "text/x-python",
   "name": "python",
   "nbconvert_exporter": "python",
   "pygments_lexer": "ipython3",
   "version": "3.10.12"
  }
 },
 "nbformat": 4,
 "nbformat_minor": 2
}
