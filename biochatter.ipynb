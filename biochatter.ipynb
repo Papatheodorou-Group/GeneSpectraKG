{
 "cells": [
  {
   "cell_type": "code",
   "execution_count": 1,
   "metadata": {},
   "outputs": [
    {
     "name": "stderr",
     "output_type": "stream",
     "text": [
      "/Users/ysong/anaconda3/envs/openai/lib/python3.11/site-packages/tqdm/auto.py:21: TqdmWarning: IProgress not found. Please update jupyter and ipywidgets. See https://ipywidgets.readthedocs.io/en/stable/user_install.html\n",
      "  from .autonotebook import tqdm as notebook_tqdm\n"
     ]
    }
   ],
   "source": [
    "from biochatter.llm_connect import GptConversation\n",
    "\n",
    "conversation = GptConversation(\n",
    "    model_name=\"gpt-4\",\n",
    "    prompts={},\n",
    ")"
   ]
  },
  {
   "cell_type": "code",
   "execution_count": 2,
   "metadata": {},
   "outputs": [],
   "source": [
    "from biochatter.prompts import BioCypherPromptEngine\n",
    "prompt_engine = BioCypherPromptEngine(\n",
    "    schema_config_or_info_path=\"config/schema_config.yaml\"\n",
    ")"
   ]
  },
  {
   "cell_type": "code",
   "execution_count": 3,
   "metadata": {},
   "outputs": [
    {
     "name": "stdout",
     "output_type": "stream",
     "text": [
      "Help on function generate_query in module biochatter.prompts:\n",
      "\n",
      "generate_query(self, question: str, query_language: str) -> str\n",
      "    Wrap entity and property selection and query generation; return the\n",
      "    generated query.\n",
      "    \n",
      "    Args:\n",
      "        question: A user's question.\n",
      "    \n",
      "        query_language: The language of the query to generate.\n",
      "    \n",
      "    Returns:\n",
      "        A database query that could answer the user's question.\n",
      "\n"
     ]
    }
   ],
   "source": [
    "help(BioCypherPromptEngine.generate_query)"
   ]
  },
  {
   "cell_type": "code",
   "execution_count": 3,
   "metadata": {},
   "outputs": [],
   "source": [
    "query = prompt_engine.generate_query(\n",
    "    question=\"Which genes are enriched in astrocytes?\",\n",
    "    ## database_language=\"Cypher\", # an error in the example\n",
    "    query_language='Cypher',\n",
    ")"
   ]
  },
  {
   "cell_type": "code",
   "execution_count": 46,
   "metadata": {},
   "outputs": [
    {
     "data": {
      "text/plain": [
       "\"MATCH (g:Gene)-[:IN_ORTHOLOGOUS_GROUP]->(og:OrthologousGroup)\\nWHERE og.group_id = '8ZMG8'\\nRETURN g.external_gene_name\""
      ]
     },
     "execution_count": 46,
     "metadata": {},
     "output_type": "execute_result"
    }
   ],
   "source": [
    "query"
   ]
  },
  {
   "cell_type": "code",
   "execution_count": 9,
   "metadata": {},
   "outputs": [],
   "source": [
    "query = prompt_engine.generate_query(\n",
    "    question=\"Which genes are in the orthologous group '8ZMG8'?\",\n",
    "    ## database_language=\"Cypher\", # an error in the example\n",
    "    query_language='Cypher',\n",
    ")"
   ]
  },
  {
   "cell_type": "code",
   "execution_count": 16,
   "metadata": {},
   "outputs": [],
   "source": [
    "import re"
   ]
  },
  {
   "cell_type": "code",
   "execution_count": 60,
   "metadata": {},
   "outputs": [],
   "source": [
    "property_regex_where = r'[a-zA-Z]+\\.\\S+ |[a-zA-Z]+\\..+$'\n",
    "entity_regex = r'\\([a-zA-Z]+:[a-zA-Z]+\\)'\n",
    "replace_regex = r' .*'"
   ]
  },
  {
   "cell_type": "code",
   "execution_count": 121,
   "metadata": {},
   "outputs": [
    {
     "data": {
      "text/plain": [
       "\"MATCH (g:Gene)-[:IN_ORTHOLOGOUS_GROUP]->(og:OrthologousGroup)\\nWHERE og.group_id = '8ZMG8'\\nRETURN g.external_gene_name\""
      ]
     },
     "execution_count": 121,
     "metadata": {},
     "output_type": "execute_result"
    }
   ],
   "source": [
    "query"
   ]
  },
  {
   "cell_type": "code",
   "execution_count": 122,
   "metadata": {},
   "outputs": [
    {
     "data": {
      "text/plain": [
       "['(g:Gene)', '(og:OrthologousGroup)']"
      ]
     },
     "execution_count": 122,
     "metadata": {},
     "output_type": "execute_result"
    }
   ],
   "source": [
    "used_entities = re.findall(entity_regex, query)\n",
    "used_entities"
   ]
  },
  {
   "cell_type": "code",
   "execution_count": 123,
   "metadata": {},
   "outputs": [
    {
     "data": {
      "text/plain": [
       "['og.group_id ', 'g.external_gene_name']"
      ]
     },
     "execution_count": 123,
     "metadata": {},
     "output_type": "execute_result"
    }
   ],
   "source": [
    "used_properties = re.findall(property_regex_where, query)\n",
    "used_properties"
   ]
  },
  {
   "cell_type": "code",
   "execution_count": 124,
   "metadata": {},
   "outputs": [
    {
     "name": "stdout",
     "output_type": "stream",
     "text": [
      "Entity Label to Type Mapping:\n",
      "g: Gene\n",
      "og: OrthologousGroup\n"
     ]
    }
   ],
   "source": [
    "def map_entities_to_labels(entity_list):\n",
    "    entity_mapping = {}\n",
    "    for entity in entity_list:\n",
    "        match = re.match(r\"\\((\\w+):(\\w+)\\)\", entity)\n",
    "        if match:\n",
    "            label, entity_type = match.groups()\n",
    "            entity_mapping[label] = entity_type\n",
    "    \n",
    "    return entity_mapping\n",
    "\n",
    "# Example list of entities\n",
    "entity_list = used_entities\n",
    "\n",
    "# Map entities to labels\n",
    "entity_mapping = map_entities_to_labels(entity_list)\n",
    "\n",
    "# Display the result\n",
    "print(\"Entity Label to Type Mapping:\")\n",
    "for label, entity_type in entity_mapping.items():\n",
    "    print(f\"{label}: {entity_type}\")\n"
   ]
  },
  {
   "cell_type": "code",
   "execution_count": 125,
   "metadata": {},
   "outputs": [
    {
     "data": {
      "text/plain": [
       "['og.group_id ', 'g.external_gene_name']"
      ]
     },
     "execution_count": 125,
     "metadata": {},
     "output_type": "execute_result"
    }
   ],
   "source": [
    "used_properties"
   ]
  },
  {
   "cell_type": "code",
   "execution_count": 126,
   "metadata": {},
   "outputs": [
    {
     "data": {
      "text/plain": [
       "('og', 'group_id')"
      ]
     },
     "execution_count": 126,
     "metadata": {},
     "output_type": "execute_result"
    }
   ],
   "source": [
    "re.match(r\"(\\w+)\\.(\\w+)\", 'og.group_id '.strip()).groups()"
   ]
  },
  {
   "cell_type": "code",
   "execution_count": 127,
   "metadata": {},
   "outputs": [],
   "source": [
    "def map_properties_to_labels(property_list):\n",
    "\n",
    "    property_mapping = {}\n",
    "    for property in property_list:\n",
    "        match = re.match(r\"(\\w+)\\.(\\w+)\", property)\n",
    "        if match:\n",
    "            label, property_type = match.groups()\n",
    "            property_mapping[label] = property_type\n",
    "    \n",
    "    return property_mapping\n",
    "\n",
    "# Example list of entities\n",
    "property_list = used_properties\n",
    "\n",
    "# Map entities to labels\n",
    "property_mapping = map_properties_to_labels(property_list)"
   ]
  },
  {
   "cell_type": "code",
   "execution_count": 128,
   "metadata": {},
   "outputs": [
    {
     "data": {
      "text/plain": [
       "{'og': 'group_id', 'g': 'external_gene_name'}"
      ]
     },
     "execution_count": 128,
     "metadata": {},
     "output_type": "execute_result"
    }
   ],
   "source": [
    "property_mapping"
   ]
  },
  {
   "cell_type": "code",
   "execution_count": 129,
   "metadata": {},
   "outputs": [
    {
     "data": {
      "text/plain": [
       "{'g': 'Gene', 'og': 'OrthologousGroup'}"
      ]
     },
     "execution_count": 129,
     "metadata": {},
     "output_type": "execute_result"
    }
   ],
   "source": [
    "entity_mapping"
   ]
  },
  {
   "cell_type": "code",
   "execution_count": 130,
   "metadata": {},
   "outputs": [],
   "source": [
    "def join_dictionaries(dict1, dict2):\n",
    "    result_dict = {}\n",
    "    \n",
    "    for key in dict1:\n",
    "        if key in dict2:\n",
    "            result_dict[dict1[key]] = dict2[key]\n",
    "    \n",
    "    return result_dict\n"
   ]
  },
  {
   "cell_type": "code",
   "execution_count": 131,
   "metadata": {},
   "outputs": [],
   "source": [
    "used_entity_property = join_dictionaries(entity_mapping, property_mapping)"
   ]
  },
  {
   "cell_type": "code",
   "execution_count": 132,
   "metadata": {},
   "outputs": [
    {
     "data": {
      "text/plain": [
       "{'Gene': 'external_gene_name', 'OrthologousGroup': 'group_id'}"
      ]
     },
     "execution_count": 132,
     "metadata": {},
     "output_type": "execute_result"
    }
   ],
   "source": [
    "used_entity_property"
   ]
  },
  {
   "cell_type": "code",
   "execution_count": 138,
   "metadata": {},
   "outputs": [
    {
     "data": {
      "text/plain": [
       "dict_items([('Gene', 'external_gene_name'), ('OrthologousGroup', 'group_id')])"
      ]
     },
     "execution_count": 138,
     "metadata": {},
     "output_type": "execute_result"
    }
   ],
   "source": [
    "used_entity_property.items()"
   ]
  },
  {
   "cell_type": "code",
   "execution_count": 140,
   "metadata": {},
   "outputs": [],
   "source": [
    "entity='Gene'\n",
    "property='external_gene_name'"
   ]
  },
  {
   "cell_type": "code",
   "execution_count": 141,
   "metadata": {},
   "outputs": [
    {
     "data": {
      "text/plain": [
       "['external_gene_name']"
      ]
     },
     "execution_count": 141,
     "metadata": {},
     "output_type": "execute_result"
    }
   ],
   "source": [
    "avail_property_entity = list(prompt_engine.entities[entity]['properties'].keys())\n",
    "avail_property_entity"
   ]
  },
  {
   "cell_type": "code",
   "execution_count": 143,
   "metadata": {},
   "outputs": [
    {
     "data": {
      "text/plain": [
       "True"
      ]
     },
     "execution_count": 143,
     "metadata": {},
     "output_type": "execute_result"
    }
   ],
   "source": [
    "property in avail_property_entity"
   ]
  },
  {
   "cell_type": "code",
   "execution_count": 144,
   "metadata": {},
   "outputs": [
    {
     "name": "stdout",
     "output_type": "stream",
     "text": [
      "Gene\n",
      "external_gene_name\n",
      "<class 'str'>\n",
      "['external_gene_name']\n",
      "True\n",
      "OrthologousGroup\n",
      "group_id\n",
      "<class 'str'>\n",
      "['eggnog_dataset_name', 'eggnog_dataset_id']\n",
      "False\n"
     ]
    }
   ],
   "source": [
    "for entity, property in used_entity_property.items():\n",
    "    print(entity)\n",
    "    print(property)\n",
    "    print(type(property))\n",
    "    avail_property_entity = list(prompt_engine.entities[entity]['properties'].keys())\n",
    "    print(avail_property_entity)\n",
    "    print(property in avail_property_entity)"
   ]
  },
  {
   "cell_type": "code",
   "execution_count": 148,
   "metadata": {},
   "outputs": [
    {
     "data": {
      "text/plain": [
       "True"
      ]
     },
     "execution_count": 148,
     "metadata": {},
     "output_type": "execute_result"
    }
   ],
   "source": [
    "entity in prompt_engine.entities.keys()"
   ]
  },
  {
   "cell_type": "code",
   "execution_count": 145,
   "metadata": {},
   "outputs": [
    {
     "data": {
      "text/plain": [
       "['eggnog_dataset_name', 'eggnog_dataset_id']"
      ]
     },
     "execution_count": 145,
     "metadata": {},
     "output_type": "execute_result"
    }
   ],
   "source": [
    "\n",
    "list(prompt_engine.entities[entity]['properties'].keys())"
   ]
  },
  {
   "cell_type": "code",
   "execution_count": 119,
   "metadata": {},
   "outputs": [
    {
     "data": {
      "text/plain": [
       "['eggnog_dataset_name', 'eggnog_dataset_id']"
      ]
     },
     "execution_count": 119,
     "metadata": {},
     "output_type": "execute_result"
    }
   ],
   "source": [
    "avail_property_entity"
   ]
  },
  {
   "cell_type": "code",
   "execution_count": null,
   "metadata": {},
   "outputs": [],
   "source": [
    "avail_property_entity = list(prompt_engine.entities[entity]['properties'].keys())"
   ]
  },
  {
   "cell_type": "code",
   "execution_count": 36,
   "metadata": {},
   "outputs": [],
   "source": [
    "all_used_prop = re.findall(get_propertis_regex, query)"
   ]
  },
  {
   "cell_type": "code",
   "execution_count": 42,
   "metadata": {},
   "outputs": [
    {
     "data": {
      "text/plain": [
       "[\".group_id = '8ZMG8'\", '.external_gene_name']"
      ]
     },
     "execution_count": 42,
     "metadata": {},
     "output_type": "execute_result"
    }
   ],
   "source": [
    "all_used_prop"
   ]
  },
  {
   "cell_type": "code",
   "execution_count": 43,
   "metadata": {},
   "outputs": [],
   "source": [
    "def substract_property(str):\n",
    "    return re.sub('\\.', '', re.sub(replace_regex, \"\", str))"
   ]
  },
  {
   "cell_type": "code",
   "execution_count": 44,
   "metadata": {},
   "outputs": [],
   "source": [
    "used_properties = [substract_property(i) for i in all_used_prop ]"
   ]
  },
  {
   "cell_type": "code",
   "execution_count": 45,
   "metadata": {},
   "outputs": [
    {
     "data": {
      "text/plain": [
       "['group_id', 'external_gene_name']"
      ]
     },
     "execution_count": 45,
     "metadata": {},
     "output_type": "execute_result"
    }
   ],
   "source": [
    "used_properties"
   ]
  },
  {
   "cell_type": "code",
   "execution_count": 41,
   "metadata": {},
   "outputs": [
    {
     "data": {
      "text/plain": [
       "{'Gene': {'represented_as': 'node',\n",
       "  'preferred_id': 'ensembl_gene_id',\n",
       "  'label_in_input': 'gene',\n",
       "  'properties': {'external_gene_name': 'str'}},\n",
       " 'CellType': {'represented_as': 'node',\n",
       "  'preferred_id': 'cell_ontology_id',\n",
       "  'label_in_input': 'cell_type',\n",
       "  'is_a': 'cell',\n",
       "  'properties': {'cell_type_name': 'str',\n",
       "   'tissue_name': 'str',\n",
       "   'uberon_tissue_id': 'str'}},\n",
       " 'Species': {'represented_as': 'node',\n",
       "  'preferred_id': 'ncbi_txid',\n",
       "  'label_in_input': 'species',\n",
       "  'is_a': 'cellular organism',\n",
       "  'properties': {'species_scientific_name': 'str'}},\n",
       " 'OrthologousGroup': {'represented_as': 'node',\n",
       "  'preferred_id': 'eggnog_id',\n",
       "  'label_in_input': 'orthologous_group',\n",
       "  'is_a': 'gene family',\n",
       "  'properties': {'eggnog_dataset_name': 'str', 'eggnog_dataset_id': 'str'}}}"
      ]
     },
     "execution_count": 41,
     "metadata": {},
     "output_type": "execute_result"
    }
   ],
   "source": [
    "prompt_engine.entities"
   ]
  },
  {
   "cell_type": "code",
   "execution_count": 7,
   "metadata": {},
   "outputs": [],
   "source": [
    "success = prompt_engine._select_entities(\n",
    "    question=\"Which genes are enriched in cell type named astrocytes?\"\n",
    ")"
   ]
  },
  {
   "cell_type": "code",
   "execution_count": 8,
   "metadata": {},
   "outputs": [
    {
     "data": {
      "text/plain": [
       "['Gene', 'CellType', 'Gene', 'CellType']"
      ]
     },
     "execution_count": 8,
     "metadata": {},
     "output_type": "execute_result"
    }
   ],
   "source": [
    "prompt_engine.selected_entities\n",
    "## this need to change"
   ]
  },
  {
   "cell_type": "code",
   "execution_count": 9,
   "metadata": {},
   "outputs": [
    {
     "data": {
      "text/plain": [
       "{'represented_as': 'node',\n",
       " 'preferred_id': 'cell_ontology_id',\n",
       " 'label_in_input': 'cell_type',\n",
       " 'is_a': 'cell',\n",
       " 'properties': {'cell_type_name': 'str',\n",
       "  'tissue_name': 'str',\n",
       "  'uberon_tissue_id': 'str'}}"
      ]
     },
     "execution_count": 9,
     "metadata": {},
     "output_type": "execute_result"
    }
   ],
   "source": [
    "prompt_engine.entities['CellType']\n"
   ]
  },
  {
   "cell_type": "code",
   "execution_count": 10,
   "metadata": {},
   "outputs": [
    {
     "name": "stdout",
     "output_type": "stream",
     "text": [
      "Help on method _select_relationships in module biochatter.prompts:\n",
      "\n",
      "_select_relationships() -> bool method of biochatter.prompts.BioCypherPromptEngine instance\n",
      "    Given a question and the preselected entities, select relationships for\n",
      "    the query.\n",
      "    \n",
      "    Args:\n",
      "        question: A user's question.\n",
      "    \n",
      "        entities: A list of entities that are relevant to the question.\n",
      "    \n",
      "    Returns:\n",
      "        True if at least one relationship was selected, False otherwise.\n",
      "    \n",
      "    Todo:\n",
      "        Now we have the problem that we discard all relationships that do\n",
      "        not have a source and target, if at least one relationship has a\n",
      "        source and target. At least communicate this all-or-nothing\n",
      "        behaviour to the user.\n",
      "\n"
     ]
    }
   ],
   "source": [
    "help(prompt_engine._select_relationships)"
   ]
  },
  {
   "cell_type": "code",
   "execution_count": 11,
   "metadata": {},
   "outputs": [
    {
     "data": {
      "text/plain": [
       "{'GeneInOrthologousGroup': {'represented_as': 'edge',\n",
       "  'is_relationship': True,\n",
       "  'present_in_knowledge_graph': True,\n",
       "  'is_a': 'gene to gene family association',\n",
       "  'label_in_input': 'gene_in_orthologous_group',\n",
       "  'source': 'Gene',\n",
       "  'target': 'OrthologousGroup'},\n",
       " 'GeneFromSpecies': {'represented_as': 'edge',\n",
       "  'is_relationship': True,\n",
       "  'present_in_knowledge_graph': True,\n",
       "  'is_a': 'association',\n",
       "  'label_in_input': 'gene_from_species',\n",
       "  'source': 'Gene',\n",
       "  'target': 'Species'},\n",
       " 'CellTypeFromSpecies': {'represented_as': 'edge',\n",
       "  'is_relationship': True,\n",
       "  'present_in_knowledge_graph': True,\n",
       "  'is_a': 'association',\n",
       "  'label_in_input': 'cell_type_from_species',\n",
       "  'source': 'CellType',\n",
       "  'target': 'Species'},\n",
       " 'GeneEnrichedInCellType': {'represented_as': 'edge',\n",
       "  'is_relationship': True,\n",
       "  'present_in_knowledge_graph': True,\n",
       "  'is_a': 'association',\n",
       "  'label_in_input': 'gene_enriched_in_cell_type',\n",
       "  'source': 'Gene',\n",
       "  'target': 'CellType'},\n",
       " 'GeneEnhancedInCellType': {'represented_as': 'edge',\n",
       "  'is_relationship': True,\n",
       "  'present_in_knowledge_graph': True,\n",
       "  'is_a': 'association',\n",
       "  'label_in_input': 'gene_enhanced_in_cell_type',\n",
       "  'source': 'Gene',\n",
       "  'target': 'CellType'}}"
      ]
     },
     "execution_count": 11,
     "metadata": {},
     "output_type": "execute_result"
    }
   ],
   "source": [
    "prompt_engine.relationships"
   ]
  },
  {
   "cell_type": "code",
   "execution_count": 12,
   "metadata": {},
   "outputs": [],
   "source": [
    "success = prompt_engine._select_relationships()"
   ]
  },
  {
   "cell_type": "code",
   "execution_count": 13,
   "metadata": {},
   "outputs": [
    {
     "data": {
      "text/plain": [
       "['GeneEnrichedInCellType', 'GeneEnrichedInCellType']"
      ]
     },
     "execution_count": 13,
     "metadata": {},
     "output_type": "execute_result"
    }
   ],
   "source": [
    "prompt_engine.selected_relationships"
   ]
  },
  {
   "cell_type": "code",
   "execution_count": 14,
   "metadata": {},
   "outputs": [
    {
     "data": {
      "text/plain": [
       "{'GeneEnrichedInCellType': {'source': 'Gene', 'target': 'CellType'}}"
      ]
     },
     "execution_count": 14,
     "metadata": {},
     "output_type": "execute_result"
    }
   ],
   "source": [
    "prompt_engine.selected_relationship_labels"
   ]
  },
  {
   "cell_type": "markdown",
   "metadata": {},
   "source": [
    "prompt_engine.selected_entities\n",
    "prompt_engine.selected_entities = list(filter(lambda item: item is not None,prompt_engine.selected_entities ))"
   ]
  },
  {
   "cell_type": "code",
   "execution_count": 15,
   "metadata": {},
   "outputs": [],
   "source": [
    "e_props = {}\n",
    "for entity in prompt_engine.selected_entities:\n",
    "            if prompt_engine.entities[entity].get(\"properties\"):\n",
    "                e_props[entity] = list(\n",
    "                    prompt_engine.entities[entity][\"properties\"].keys()\n",
    "                )"
   ]
  },
  {
   "cell_type": "code",
   "execution_count": 16,
   "metadata": {},
   "outputs": [
    {
     "data": {
      "text/plain": [
       "{'Gene': ['external_gene_name'],\n",
       " 'CellType': ['cell_type_name', 'tissue_name', 'uberon_tissue_id']}"
      ]
     },
     "execution_count": 16,
     "metadata": {},
     "output_type": "execute_result"
    }
   ],
   "source": [
    "e_props"
   ]
  },
  {
   "cell_type": "code",
   "execution_count": 17,
   "metadata": {},
   "outputs": [],
   "source": [
    "success = prompt_engine._select_properties()"
   ]
  },
  {
   "cell_type": "code",
   "execution_count": 18,
   "metadata": {},
   "outputs": [
    {
     "data": {
      "text/plain": [
       "{'Gene': ['external_gene_name']}"
      ]
     },
     "execution_count": 18,
     "metadata": {},
     "output_type": "execute_result"
    }
   ],
   "source": [
    "prompt_engine.selected_properties\n",
    "\n",
    "## here even mentioned cell type name, the cell type name property did not get selected"
   ]
  },
  {
   "cell_type": "code",
   "execution_count": 19,
   "metadata": {},
   "outputs": [
    {
     "data": {
      "text/plain": [
       "{'cell_type_name': 'str', 'tissue_name': 'str', 'uberon_tissue_id': 'str'}"
      ]
     },
     "execution_count": 19,
     "metadata": {},
     "output_type": "execute_result"
    }
   ],
   "source": [
    "prompt_engine.entities['CellType']['properties']"
   ]
  },
  {
   "cell_type": "code",
   "execution_count": 64,
   "metadata": {},
   "outputs": [],
   "source": [
    "prompt_engine.selected_properties = {\n",
    "    'Gene': ['external_gene_name'],\n",
    "    \"CellType\": ['cell_type_name'],\n",
    "}"
   ]
  },
  {
   "cell_type": "code",
   "execution_count": 65,
   "metadata": {},
   "outputs": [],
   "source": [
    "query = prompt_engine._generate_query(\n",
    "    question=\"Which genes are enriched in astrocytes?\",\n",
    "    entities=prompt_engine.selected_entities,\n",
    "    relationships=prompt_engine.selected_relationship_labels,\n",
    "    properties=prompt_engine.selected_properties,\n",
    "    query_language=\"Cypher\",\n",
    ")"
   ]
  },
  {
   "cell_type": "code",
   "execution_count": 66,
   "metadata": {},
   "outputs": [
    {
     "data": {
      "text/plain": [
       "\"MATCH (g:Gene)-[:GeneEnrichedInCellType]->(c:CellType)\\nWHERE c.cell_type_name = 'astrocytes'\\nRETURN g.external_gene_name\""
      ]
     },
     "execution_count": 66,
     "metadata": {},
     "output_type": "execute_result"
    }
   ],
   "source": [
    "query"
   ]
  },
  {
   "cell_type": "code",
   "execution_count": 67,
   "metadata": {},
   "outputs": [],
   "source": [
    "## after some manual work the query can be generated"
   ]
  },
  {
   "cell_type": "code",
   "execution_count": null,
   "metadata": {},
   "outputs": [],
   "source": []
  },
  {
   "cell_type": "code",
   "execution_count": 68,
   "metadata": {},
   "outputs": [
    {
     "data": {
      "text/plain": [
       "['Gene', 'CellType']"
      ]
     },
     "execution_count": 68,
     "metadata": {},
     "output_type": "execute_result"
    }
   ],
   "source": [
    "[ entity for entity in prompt_engine.selected_properties.keys()]"
   ]
  },
  {
   "cell_type": "code",
   "execution_count": 69,
   "metadata": {},
   "outputs": [
    {
     "data": {
      "text/plain": [
       "['external_gene_name']"
      ]
     },
     "execution_count": 69,
     "metadata": {},
     "output_type": "execute_result"
    }
   ],
   "source": [
    "prompt_engine.selected_properties['Gene']"
   ]
  },
  {
   "cell_type": "code",
   "execution_count": 70,
   "metadata": {},
   "outputs": [],
   "source": [
    "selected_property_entity = prompt_engine.selected_properties['Gene']"
   ]
  },
  {
   "cell_type": "code",
   "execution_count": 71,
   "metadata": {},
   "outputs": [],
   "source": [
    "avail_property_entity = list(prompt_engine.entities['Gene']['properties'].keys())"
   ]
  },
  {
   "cell_type": "code",
   "execution_count": 75,
   "metadata": {},
   "outputs": [
    {
     "data": {
      "text/plain": [
       "True"
      ]
     },
     "execution_count": 75,
     "metadata": {},
     "output_type": "execute_result"
    }
   ],
   "source": [
    "all(i in avail_property_entity for i in selected_property_entity)"
   ]
  },
  {
   "cell_type": "code",
   "execution_count": 73,
   "metadata": {},
   "outputs": [
    {
     "data": {
      "text/plain": [
       "['external_gene_name']"
      ]
     },
     "execution_count": 73,
     "metadata": {},
     "output_type": "execute_result"
    }
   ],
   "source": [
    "selected_property_entity"
   ]
  },
  {
   "cell_type": "code",
   "execution_count": 74,
   "metadata": {},
   "outputs": [
    {
     "data": {
      "text/plain": [
       "['external_gene_name']"
      ]
     },
     "execution_count": 74,
     "metadata": {},
     "output_type": "execute_result"
    }
   ],
   "source": [
    "avail_property_entity"
   ]
  },
  {
   "cell_type": "code",
   "execution_count": 76,
   "metadata": {},
   "outputs": [],
   "source": [
    "def check_property_exists(entity):\n",
    "    selected_property_entity = prompt_engine.selected_properties[entity]\n",
    "    avail_property_entity = list(prompt_engine.entities[entity]['properties'].keys())\n",
    "    return all(i in avail_property_entity for i in selected_property_entity)"
   ]
  },
  {
   "cell_type": "code",
   "execution_count": 78,
   "metadata": {},
   "outputs": [],
   "source": [
    "passed_entities = [ entity for entity in prompt_engine.selected_properties.keys() if check_property_exists(entity)]"
   ]
  },
  {
   "cell_type": "code",
   "execution_count": 80,
   "metadata": {},
   "outputs": [
    {
     "data": {
      "text/plain": [
       "1.0"
      ]
     },
     "execution_count": 80,
     "metadata": {},
     "output_type": "execute_result"
    }
   ],
   "source": [
    "# what pct of entities passed\n",
    "len(passed_entities) / len(prompt_engine.selected_properties.keys())"
   ]
  },
  {
   "cell_type": "code",
   "execution_count": 86,
   "metadata": {},
   "outputs": [
    {
     "data": {
      "text/plain": [
       "{'Gene': ['external_gene_name'], 'CellType': ['cell_type_name']}"
      ]
     },
     "execution_count": 86,
     "metadata": {},
     "output_type": "execute_result"
    }
   ],
   "source": [
    "prompt_engine.selected_properties"
   ]
  },
  {
   "cell_type": "code",
   "execution_count": 85,
   "metadata": {},
   "outputs": [
    {
     "ename": "KeyError",
     "evalue": "'property'",
     "output_type": "error",
     "traceback": [
      "\u001b[0;31m---------------------------------------------------------------------------\u001b[0m",
      "\u001b[0;31mKeyError\u001b[0m                                  Traceback (most recent call last)",
      "\u001b[1;32m/Users/ysong/SOFTWARE/GeneSpectraKG/biochatter.ipynb Cell 37\u001b[0m line \u001b[0;36m1\n\u001b[0;32m----> <a href='vscode-notebook-cell:/Users/ysong/SOFTWARE/GeneSpectraKG/biochatter.ipynb#X54sZmlsZQ%3D%3D?line=0'>1</a>\u001b[0m prompt_engine\u001b[39m.\u001b[39;49mrelationships[\u001b[39m'\u001b[39;49m\u001b[39mGeneInOrthologousGroup\u001b[39;49m\u001b[39m'\u001b[39;49m][\u001b[39m'\u001b[39;49m\u001b[39mproperty\u001b[39;49m\u001b[39m'\u001b[39;49m]\n",
      "\u001b[0;31mKeyError\u001b[0m: 'property'"
     ]
    }
   ],
   "source": [
    "prompt_engine.relationships['GeneInOrthologousGroup']['property']"
   ]
  },
  {
   "cell_type": "code",
   "execution_count": 149,
   "metadata": {},
   "outputs": [
    {
     "data": {
      "text/plain": [
       "\"MATCH (g:Gene)-[:IN_ORTHOLOGOUS_GROUP]->(og:OrthologousGroup)\\nWHERE og.group_id = '8ZMG8'\\nRETURN g.external_gene_name\""
      ]
     },
     "execution_count": 149,
     "metadata": {},
     "output_type": "execute_result"
    }
   ],
   "source": [
    "query"
   ]
  },
  {
   "cell_type": "code",
   "execution_count": 152,
   "metadata": {},
   "outputs": [
    {
     "data": {
      "text/plain": [
       "{'GeneInOrthologousGroup': {'represented_as': 'edge',\n",
       "  'is_relationship': True,\n",
       "  'present_in_knowledge_graph': True,\n",
       "  'is_a': 'gene to gene family association',\n",
       "  'label_in_input': 'gene_in_orthologous_group',\n",
       "  'source': 'Gene',\n",
       "  'target': 'OrthologousGroup'},\n",
       " 'GeneFromSpecies': {'represented_as': 'edge',\n",
       "  'is_relationship': True,\n",
       "  'present_in_knowledge_graph': True,\n",
       "  'is_a': 'association',\n",
       "  'label_in_input': 'gene_from_species',\n",
       "  'source': 'Gene',\n",
       "  'target': 'Species'},\n",
       " 'CellTypeFromSpecies': {'represented_as': 'edge',\n",
       "  'is_relationship': True,\n",
       "  'present_in_knowledge_graph': True,\n",
       "  'is_a': 'association',\n",
       "  'label_in_input': 'cell_type_from_species',\n",
       "  'source': 'CellType',\n",
       "  'target': 'Species'},\n",
       " 'GeneEnrichedInCellType': {'represented_as': 'edge',\n",
       "  'is_relationship': True,\n",
       "  'present_in_knowledge_graph': True,\n",
       "  'is_a': 'association',\n",
       "  'label_in_input': 'gene_enriched_in_cell_type',\n",
       "  'source': 'Gene',\n",
       "  'target': 'CellType'},\n",
       " 'GeneEnhancedInCellType': {'represented_as': 'edge',\n",
       "  'is_relationship': True,\n",
       "  'present_in_knowledge_graph': True,\n",
       "  'is_a': 'association',\n",
       "  'label_in_input': 'gene_enhanced_in_cell_type',\n",
       "  'source': 'Gene',\n",
       "  'target': 'CellType'}}"
      ]
     },
     "execution_count": 152,
     "metadata": {},
     "output_type": "execute_result"
    }
   ],
   "source": [
    "prompt_engine.relationships"
   ]
  },
  {
   "cell_type": "code",
   "execution_count": 154,
   "metadata": {},
   "outputs": [],
   "source": []
  },
  {
   "cell_type": "code",
   "execution_count": 155,
   "metadata": {},
   "outputs": [
    {
     "name": "stdout",
     "output_type": "stream",
     "text": [
      "[True, False]\n"
     ]
    }
   ],
   "source": [
    "check_property_exists(prompt_engine, query)"
   ]
  },
  {
   "cell_type": "code",
   "execution_count": 164,
   "metadata": {},
   "outputs": [],
   "source": [
    "query_alt = \"MATCH (ct:CellType {cell_type_name: 'Astro'})<-[:GeneEnrichedInCellType]-(g:Gene)\\nRETURN g)\""
   ]
  },
  {
   "cell_type": "code",
   "execution_count": null,
   "metadata": {},
   "outputs": [],
   "source": [
    "r\"\\((\\w+):(\\w+) \\{(\\w+).+\\}\\)\""
   ]
  },
  {
   "cell_type": "code",
   "execution_count": 214,
   "metadata": {},
   "outputs": [
    {
     "data": {
      "text/plain": [
       "\"MATCH (ct:CellType {cell_type_name: 'Astro'})<-[:GeneEnrichedInCellType]-(g:Gene)\\nRETURN g)\""
      ]
     },
     "execution_count": 214,
     "metadata": {},
     "output_type": "execute_result"
    }
   ],
   "source": [
    "query_alt"
   ]
  },
  {
   "cell_type": "code",
   "execution_count": 218,
   "metadata": {},
   "outputs": [
    {
     "data": {
      "text/plain": [
       "('ct', 'cell_type_name')"
      ]
     },
     "execution_count": 218,
     "metadata": {},
     "output_type": "execute_result"
    }
   ],
   "source": [
    "re.search(r\"\\((\\w+):\\w+ \\{(\\w+): \", query_alt).groups()"
   ]
  },
  {
   "cell_type": "code",
   "execution_count": 256,
   "metadata": {},
   "outputs": [],
   "source": [
    "def substract_property(string, replace_regex):\n",
    "    return re.sub('\\.', '', re.sub(replace_regex, \"\", string))\n",
    "\n",
    "def map_entities_to_labels(entity_list):\n",
    "    entity_mapping = {}\n",
    "    for entity in entity_list:\n",
    "        match = re.match(r\"\\((\\w+):(\\w+)\", entity)\n",
    "        if match:\n",
    "            label, entity_type = match.groups()\n",
    "            entity_mapping[label] = entity_type\n",
    "    \n",
    "    return entity_mapping\n",
    "\n",
    "def map_where_properties_to_labels(property_list):\n",
    "    property_mapping = {}\n",
    "    for property in property_list:\n",
    "        match = re.match(r\"(\\w+)\\.(\\w+)\", property)\n",
    "        if match:\n",
    "            label, property_type = match.groups()\n",
    "            property_mapping[label] = property_type\n",
    "    \n",
    "    return property_mapping\n",
    "\n",
    "def map_bracket_properties_to_labels(property_list):\n",
    "    property_mapping = {}\n",
    "    for property in property_list:\n",
    "        match = re.search(r\"\\((\\w+):\\w+ \\{(\\w+):\", property)\n",
    "        if match:\n",
    "            label, property_type = match.groups()\n",
    "            property_mapping[label] = property_type\n",
    "    \n",
    "    return property_mapping\n",
    "\n",
    "def join_dictionaries(dict1, dict2):\n",
    "    result_dict = {}\n",
    "    for key in dict1:\n",
    "        if key in dict2:\n",
    "            result_dict[dict1[key]] = dict2[key]\n",
    "    \n",
    "    return result_dict\n",
    "\n",
    "def get_used_property_from_query(query):\n",
    "\n",
    "    if \"WHERE\" in query:\n",
    "        property_regex_where = r'[a-zA-Z]+\\.\\S+ |[a-zA-Z]+\\..+$'\n",
    "        used_properties = re.findall(property_regex_where, query)\n",
    "        used_properties = [ i.strip() for i in used_properties]\n",
    "        property_mapping = map_where_properties_to_labels(used_properties)\n",
    "\n",
    "    elif '{' in query:\n",
    "        property_regex_bracket = r\"\\(\\w+:\\w+ \\{\\w+: \"\n",
    "        used_properties = re.findall(property_regex_bracket, query)\n",
    "        used_properties = [ i.strip() for i in used_properties]\n",
    "        property_mapping = map_bracket_properties_to_labels(used_properties)\n",
    "\n",
    "    # all entities involved in the query with the variable name\n",
    "    entity_regex = r'\\([a-zA-Z]+:[a-zA-Z]+'\n",
    "    used_entities = re.findall(entity_regex, query)\n",
    "    used_entities = [ i.strip() for i in used_entities]\n",
    "\n",
    "    # map entity and property via the variable name\n",
    "    entity_mapping = map_entities_to_labels(used_entities)\n",
    "    \n",
    "    # get all the entity and respective properties used in the cypher query\n",
    "    used_entity_property = join_dictionaries(entity_mapping, property_mapping)\n",
    "\n",
    "    return entity_mapping, property_mapping, used_entity_property\n",
    "\n",
    "\n",
    "\n",
    "\n",
    "def check_property_exists(prompt_engine, query):\n",
    "    \n",
    "    score = []\n",
    "\n",
    "    used_entity_property = get_used_property_from_query(query)[2]\n",
    "\n",
    "    for entity, property in used_entity_property.items():\n",
    "        if entity in prompt_engine.entities.keys():\n",
    "            avail_property_entity = list(prompt_engine.entities[entity]['properties'].keys())\n",
    "        elif entity in prompt_engine.relationships.keys():\n",
    "            avail_property_entity = list(prompt_engine.relationships[entity]['properties'].keys())\n",
    "        score.append(property in avail_property_entity)\n",
    "        \n",
    "    print(score)\n"
   ]
  },
  {
   "cell_type": "code",
   "execution_count": 257,
   "metadata": {},
   "outputs": [
    {
     "name": "stdout",
     "output_type": "stream",
     "text": [
      "[True, False]\n"
     ]
    }
   ],
   "source": [
    "check_property_exists( prompt_engine, query)"
   ]
  },
  {
   "cell_type": "code",
   "execution_count": 252,
   "metadata": {},
   "outputs": [
    {
     "name": "stdout",
     "output_type": "stream",
     "text": [
      "[True]\n"
     ]
    }
   ],
   "source": [
    "check_property_exists( prompt_engine, query_alt)"
   ]
  },
  {
   "cell_type": "code",
   "execution_count": 253,
   "metadata": {},
   "outputs": [
    {
     "data": {
      "text/plain": [
       "({'g': 'Gene', 'og': 'OrthologousGroup'},\n",
       " {'og': 'group_id', 'g': 'external_gene_name'},\n",
       " {'Gene': 'external_gene_name', 'OrthologousGroup': 'group_id'})"
      ]
     },
     "execution_count": 253,
     "metadata": {},
     "output_type": "execute_result"
    }
   ],
   "source": [
    "get_used_property_from_query(query)"
   ]
  },
  {
   "cell_type": "code",
   "execution_count": 254,
   "metadata": {},
   "outputs": [
    {
     "data": {
      "text/plain": [
       "({'ct': 'CellType', 'g': 'Gene'},\n",
       " {'ct': 'cell_type_name'},\n",
       " {'CellType': 'cell_type_name'})"
      ]
     },
     "execution_count": 254,
     "metadata": {},
     "output_type": "execute_result"
    }
   ],
   "source": [
    "get_used_property_from_query(query_alt)"
   ]
  },
  {
   "cell_type": "code",
   "execution_count": 255,
   "metadata": {},
   "outputs": [
    {
     "data": {
      "text/plain": [
       "\"MATCH (ct:CellType {cell_type_name: 'Astro'})<-[:GeneEnrichedInCellType]-(g:Gene)\\nRETURN g)\""
      ]
     },
     "execution_count": 255,
     "metadata": {},
     "output_type": "execute_result"
    }
   ],
   "source": [
    "query_alt"
   ]
  },
  {
   "cell_type": "code",
   "execution_count": 236,
   "metadata": {},
   "outputs": [],
   "source": [
    "property_regex_bracket = r\"\\(\\w+:\\w+ \\{\\w+: \"\n",
    "used_properties = re.findall(property_regex_bracket, query_alt)\n",
    "used_properties = [ i.strip() for i in used_properties]\n",
    "property_mapping = map_bracket_properties_to_labels(used_properties)"
   ]
  },
  {
   "cell_type": "code",
   "execution_count": 241,
   "metadata": {},
   "outputs": [
    {
     "data": {
      "text/plain": [
       "['(ct:CellType {cell_type_name:']"
      ]
     },
     "execution_count": 241,
     "metadata": {},
     "output_type": "execute_result"
    }
   ],
   "source": [
    "used_properties"
   ]
  },
  {
   "cell_type": "code",
   "execution_count": 239,
   "metadata": {},
   "outputs": [
    {
     "data": {
      "text/plain": [
       "{}"
      ]
     },
     "execution_count": 239,
     "metadata": {},
     "output_type": "execute_result"
    }
   ],
   "source": [
    "map_bracket_properties_to_labels(used_properties)"
   ]
  },
  {
   "cell_type": "code",
   "execution_count": 242,
   "metadata": {},
   "outputs": [],
   "source": [
    "re.search(r\"\\((\\w+):\\w+ \\{(\\w+):\"])"
   ]
  },
  {
   "cell_type": "code",
   "execution_count": 265,
   "metadata": {},
   "outputs": [
    {
     "data": {
      "text/plain": [
       "False"
      ]
     },
     "execution_count": 265,
     "metadata": {},
     "output_type": "execute_result"
    }
   ],
   "source": [
    "'random' in prompt_engine.entities['Gene']"
   ]
  },
  {
   "cell_type": "code",
   "execution_count": 267,
   "metadata": {},
   "outputs": [
    {
     "data": {
      "text/plain": [
       "('r', 'GENE_EXPRESSED_IN_CELL_TYPE')"
      ]
     },
     "execution_count": 267,
     "metadata": {},
     "output_type": "execute_result"
    }
   ],
   "source": [
    "re.match(r\"(\\w+)\\.(\\w+)\", 'r.GENE_EXPRESSED_IN_CELL_TYPE').groups()"
   ]
  },
  {
   "cell_type": "code",
   "execution_count": 268,
   "metadata": {},
   "outputs": [
    {
     "data": {
      "text/plain": [
       "{'Gene': {'external_gene_name': []}}"
      ]
     },
     "execution_count": 268,
     "metadata": {},
     "output_type": "execute_result"
    }
   ],
   "source": [
    "prompt_engine.selected_properties"
   ]
  },
  {
   "cell_type": "markdown",
   "metadata": {},
   "source": []
  }
 ],
 "metadata": {
  "kernelspec": {
   "display_name": "Python 3",
   "language": "python",
   "name": "python3"
  },
  "language_info": {
   "codemirror_mode": {
    "name": "ipython",
    "version": 3
   },
   "file_extension": ".py",
   "mimetype": "text/x-python",
   "name": "python",
   "nbconvert_exporter": "python",
   "pygments_lexer": "ipython3",
   "version": "3.11.0"
  }
 },
 "nbformat": 4,
 "nbformat_minor": 2
}
