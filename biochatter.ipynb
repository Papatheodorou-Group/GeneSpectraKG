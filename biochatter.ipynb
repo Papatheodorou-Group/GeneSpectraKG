{
 "cells": [
  {
   "cell_type": "code",
   "execution_count": 4,
   "metadata": {},
   "outputs": [],
   "source": [
    "from biochatter.llm_connect import GptConversation\n",
    "\n",
    "conversation = GptConversation(\n",
    "    model_name=\"gpt-3.5-turbo\",\n",
    "    prompts={},\n",
    ")"
   ]
  },
  {
   "cell_type": "code",
   "execution_count": 55,
   "metadata": {},
   "outputs": [],
   "source": [
    "from biochatter.prompts import BioCypherPromptEngine\n",
    "prompt_engine = BioCypherPromptEngine(\n",
    "    schema_config_or_info_path=\"config/schema_config.yaml\"\n",
    ")"
   ]
  },
  {
   "cell_type": "code",
   "execution_count": 56,
   "metadata": {},
   "outputs": [
    {
     "name": "stdout",
     "output_type": "stream",
     "text": [
      "Help on function generate_query in module biochatter.prompts:\n",
      "\n",
      "generate_query(self, question: str, query_language: str) -> str\n",
      "    Wrap entity and property selection and query generation; return the\n",
      "    generated query.\n",
      "    \n",
      "    Args:\n",
      "        question: A user's question.\n",
      "    \n",
      "        query_language: The language of the query to generate.\n",
      "    \n",
      "    Returns:\n",
      "        A database query that could answer the user's question.\n",
      "\n"
     ]
    }
   ],
   "source": [
    "help(BioCypherPromptEngine.generate_query)"
   ]
  },
  {
   "cell_type": "markdown",
   "metadata": {},
   "source": [
    "query = prompt_engine.generate_query(\n",
    "    question=\"Which genes are enriched in astrocytes?\",\n",
    "    ## database_language=\"Cypher\", # an error in the example\n",
    "    query_language='Cypher',\n",
    ")"
   ]
  },
  {
   "cell_type": "code",
   "execution_count": 57,
   "metadata": {},
   "outputs": [
    {
     "data": {
      "text/plain": [
       "{'Gene': {'represented_as': 'node',\n",
       "  'preferred_id': 'ensembl_gene_id',\n",
       "  'label_in_input': 'gene',\n",
       "  'properties': {'ncbi_gene_name': 'str'}},\n",
       " 'CellType': {'represented_as': 'node',\n",
       "  'preferred_id': 'cell_ontology_id',\n",
       "  'label_in_input': 'cell_type',\n",
       "  'is_a': 'anatomical entity',\n",
       "  'properties': {'cell_type_name': 'str',\n",
       "   'tissue_name': 'str',\n",
       "   'uberon_tissue_id': 'str'}},\n",
       " 'Species': {'represented_as': 'node',\n",
       "  'preferred_id': 'ncbi_txid',\n",
       "  'label_in_input': 'species',\n",
       "  'is_a': 'cellular organism',\n",
       "  'properties': {'species_scientific_name': 'str'}},\n",
       " 'OrthologousGroup': {'represented_as': 'node',\n",
       "  'preferred_id': 'eggnog_id',\n",
       "  'label_in_input': 'orthologous_group',\n",
       "  'is_a': 'gene family',\n",
       "  'properties': {'eggnog_dataset_name': 'str', 'eggnog_dataset_id': 'str'}}}"
      ]
     },
     "execution_count": 57,
     "metadata": {},
     "output_type": "execute_result"
    }
   ],
   "source": [
    "prompt_engine.entities"
   ]
  },
  {
   "cell_type": "code",
   "execution_count": 58,
   "metadata": {},
   "outputs": [],
   "source": [
    "success = prompt_engine._select_entities(\n",
    "    question=\"Which genes are enriched in cell type named astrocytes?\"\n",
    ")"
   ]
  },
  {
   "cell_type": "code",
   "execution_count": 59,
   "metadata": {},
   "outputs": [
    {
     "data": {
      "text/plain": [
       "['Gene', 'CellType']"
      ]
     },
     "execution_count": 59,
     "metadata": {},
     "output_type": "execute_result"
    }
   ],
   "source": [
    "prompt_engine.selected_entities\n",
    "## this need to change"
   ]
  },
  {
   "cell_type": "code",
   "execution_count": 60,
   "metadata": {},
   "outputs": [
    {
     "data": {
      "text/plain": [
       "{'represented_as': 'node',\n",
       " 'preferred_id': 'cell_ontology_id',\n",
       " 'label_in_input': 'cell_type',\n",
       " 'is_a': 'anatomical entity',\n",
       " 'properties': {'cell_type_name': 'str',\n",
       "  'tissue_name': 'str',\n",
       "  'uberon_tissue_id': 'str'}}"
      ]
     },
     "execution_count": 60,
     "metadata": {},
     "output_type": "execute_result"
    }
   ],
   "source": [
    "prompt_engine.entities['CellType']\n"
   ]
  },
  {
   "cell_type": "code",
   "execution_count": 61,
   "metadata": {},
   "outputs": [
    {
     "name": "stdout",
     "output_type": "stream",
     "text": [
      "Help on method _select_relationships in module biochatter.prompts:\n",
      "\n",
      "_select_relationships() -> bool method of biochatter.prompts.BioCypherPromptEngine instance\n",
      "    Given a question and the preselected entities, select relationships for\n",
      "    the query.\n",
      "    \n",
      "    Args:\n",
      "        question: A user's question.\n",
      "    \n",
      "        entities: A list of entities that are relevant to the question.\n",
      "    \n",
      "    Returns:\n",
      "        True if at least one relationship was selected, False otherwise.\n",
      "    \n",
      "    Todo:\n",
      "        Now we have the problem that we discard all relationships that do\n",
      "        not have a source and target, if at least one relationship has a\n",
      "        source and target. At least communicate this all-or-nothing\n",
      "        behaviour to the user.\n",
      "\n"
     ]
    }
   ],
   "source": [
    "help(prompt_engine._select_relationships)"
   ]
  },
  {
   "cell_type": "code",
   "execution_count": 62,
   "metadata": {},
   "outputs": [
    {
     "data": {
      "text/plain": [
       "{'GeneInOrthologousGroup': {'represented_as': 'edge',\n",
       "  'is_a': 'gene to gene family association',\n",
       "  'label_in_input': 'gene_in_orthologous_group',\n",
       "  'source': 'Gene',\n",
       "  'target': 'OrthologousGroup'},\n",
       " 'GeneFromSpecies': {'represented_as': 'edge',\n",
       "  'is_a': 'association',\n",
       "  'label_in_input': 'gene_from_species',\n",
       "  'source': 'Gene',\n",
       "  'target': 'Species'},\n",
       " 'CellTypeFromSpecies': {'represented_as': 'edge',\n",
       "  'is_a': 'association',\n",
       "  'label_in_input': 'cell_type_from_species',\n",
       "  'source': 'CellType',\n",
       "  'target': 'Species'},\n",
       " 'GeneEnrichedInCellType': {'represented_as': 'edge',\n",
       "  'is_a': 'association',\n",
       "  'label_in_input': 'gene_enriched_in_cell_type',\n",
       "  'source': 'Gene',\n",
       "  'target': 'CellType'},\n",
       " 'GeneEnhancedInCellType': {'represented_as': 'edge',\n",
       "  'is_a': 'association',\n",
       "  'label_in_input': 'gene_enhanced_in_cell_type',\n",
       "  'source': 'Gene',\n",
       "  'target': 'CellType'}}"
      ]
     },
     "execution_count": 62,
     "metadata": {},
     "output_type": "execute_result"
    }
   ],
   "source": [
    "prompt_engine.relationships"
   ]
  },
  {
   "cell_type": "code",
   "execution_count": 63,
   "metadata": {},
   "outputs": [],
   "source": [
    "success = prompt_engine._select_relationships()"
   ]
  },
  {
   "cell_type": "code",
   "execution_count": 64,
   "metadata": {},
   "outputs": [
    {
     "data": {
      "text/plain": [
       "['GeneEnrichedInCellType']"
      ]
     },
     "execution_count": 64,
     "metadata": {},
     "output_type": "execute_result"
    }
   ],
   "source": [
    "prompt_engine.selected_relationships"
   ]
  },
  {
   "cell_type": "code",
   "execution_count": 65,
   "metadata": {},
   "outputs": [
    {
     "data": {
      "text/plain": [
       "{'GeneEnrichedInCellType': {'source': 'Gene', 'target': 'CellType'}}"
      ]
     },
     "execution_count": 65,
     "metadata": {},
     "output_type": "execute_result"
    }
   ],
   "source": [
    "prompt_engine.selected_relationship_labels"
   ]
  },
  {
   "cell_type": "code",
   "execution_count": 66,
   "metadata": {},
   "outputs": [],
   "source": [
    "prompt_engine.selected_entities\n",
    "prompt_engine.selected_entities = list(filter(lambda item: item is not None,prompt_engine.selected_entities ))"
   ]
  },
  {
   "cell_type": "code",
   "execution_count": 71,
   "metadata": {},
   "outputs": [
    {
     "data": {
      "text/plain": [
       "['Gene', 'CellType']"
      ]
     },
     "execution_count": 71,
     "metadata": {},
     "output_type": "execute_result"
    }
   ],
   "source": [
    "prompt_engine.selected_entities"
   ]
  },
  {
   "cell_type": "code",
   "execution_count": 72,
   "metadata": {},
   "outputs": [],
   "source": [
    "success = prompt_engine._select_properties()"
   ]
  },
  {
   "cell_type": "code",
   "execution_count": 73,
   "metadata": {},
   "outputs": [
    {
     "data": {
      "text/plain": [
       "{'cell_type_name': 'str', 'tissue_name': 'str', 'uberon_tissue_id': 'str'}"
      ]
     },
     "execution_count": 73,
     "metadata": {},
     "output_type": "execute_result"
    }
   ],
   "source": [
    "prompt_engine.entities['CellType']['properties']"
   ]
  },
  {
   "cell_type": "code",
   "execution_count": 74,
   "metadata": {},
   "outputs": [
    {
     "data": {
      "text/plain": [
       "{'Gene': ['ncbi_gene_name']}"
      ]
     },
     "execution_count": 74,
     "metadata": {},
     "output_type": "execute_result"
    }
   ],
   "source": [
    "prompt_engine.selected_properties\n",
    "\n",
    "## here even mentioned cell type name, the cell type name property did not get selected"
   ]
  },
  {
   "cell_type": "code",
   "execution_count": 75,
   "metadata": {},
   "outputs": [],
   "source": [
    "prompt_engine.selected_properties = {\n",
    "    'Gene': ['ncbi_gene_name'],\n",
    "    \"CellType\": ['cell_type_name'],\n",
    "}"
   ]
  },
  {
   "cell_type": "code",
   "execution_count": 77,
   "metadata": {},
   "outputs": [],
   "source": [
    "query = prompt_engine._generate_query(\n",
    "    question=\"Which genes are enriched in astrocytes?\",\n",
    "    entities=prompt_engine.selected_entities,\n",
    "    relationships=prompt_engine.selected_relationship_labels,\n",
    "    properties=prompt_engine.selected_properties,\n",
    "    query_language=\"Cypher\",\n",
    ")"
   ]
  },
  {
   "cell_type": "code",
   "execution_count": 78,
   "metadata": {},
   "outputs": [
    {
     "data": {
      "text/plain": [
       "\"MATCH (g:Gene)-[:GeneEnrichedInCellType]->(c:CellType)\\nWHERE c.cell_type_name = 'astrocytes'\\nRETURN g.ncbi_gene_name\""
      ]
     },
     "execution_count": 78,
     "metadata": {},
     "output_type": "execute_result"
    }
   ],
   "source": [
    "query"
   ]
  },
  {
   "cell_type": "code",
   "execution_count": null,
   "metadata": {},
   "outputs": [],
   "source": [
    "## after some manual work the query can be generated"
   ]
  }
 ],
 "metadata": {
  "kernelspec": {
   "display_name": "Python 3",
   "language": "python",
   "name": "python3"
  },
  "language_info": {
   "codemirror_mode": {
    "name": "ipython",
    "version": 3
   },
   "file_extension": ".py",
   "mimetype": "text/x-python",
   "name": "python",
   "nbconvert_exporter": "python",
   "pygments_lexer": "ipython3",
   "version": "3.10.12"
  }
 },
 "nbformat": 4,
 "nbformat_minor": 2
}
